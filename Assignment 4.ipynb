{
 "cells": [
  {
   "cell_type": "markdown",
   "id": "650d7e70-e4a4-424b-af5f-1c026d6260c8",
   "metadata": {},
   "source": [
    "# CSI4108 (Fundamentals of) Cryptography - Assignment 4"
   ]
  },
  {
   "cell_type": "markdown",
   "id": "296b249e-4400-4eba-b9a8-d8e6623e9313",
   "metadata": {},
   "source": [
    "## Student Infomation\n",
    "Name: Jake Wang\n"
   ]
  },
  {
   "cell_type": "markdown",
   "id": "62b52d07-8466-46d4-a7f3-cb37d5ea264a",
   "metadata": {},
   "source": [
    "## Import Required Libraries"
   ]
  },
  {
   "cell_type": "code",
   "execution_count": 1,
   "id": "d3f80d75-a4b3-47c2-843d-cf80e12a6bc1",
   "metadata": {},
   "outputs": [],
   "source": [
    "import random\n",
    "import hashlib\n",
    "import hmac\n",
    "import typing\n",
    "import math"
   ]
  },
  {
   "cell_type": "markdown",
   "id": "180759bc-3be4-4afd-8cee-576e7b24f765",
   "metadata": {},
   "source": [
    "## Question 1: HMAC-SHA-512"
   ]
  },
  {
   "cell_type": "markdown",
   "id": "59cbd73a-bdd8-4ff5-bd37-194e71f0e3de",
   "metadata": {},
   "source": [
    "### Implementation"
   ]
  },
  {
   "cell_type": "code",
   "execution_count": 2,
   "id": "62099b7e-8fd8-41ad-b320-bb2f1a48f2a0",
   "metadata": {},
   "outputs": [],
   "source": [
    "def hmac_sha512_hex(message: bytes, key: bytes):\n",
    "    block_size_bytes = 1024 // 8\n",
    "\n",
    "    if len(key) > block_size_bytes:\n",
    "        key = hashlib.sha512(key).digest()\n",
    "    else:\n",
    "        key = key.ljust(block_size_bytes, b'\\x00')\n",
    "\n",
    "    opad = b'\\x5c' * block_size_bytes\n",
    "    ipad = b'\\x36' * block_size_bytes\n",
    "\n",
    "    o_key_pad = bytes(x ^ y for x, y in zip(key, opad))\n",
    "    i_key_pad = bytes(x ^ y for x, y in zip(key, ipad))\n",
    "\n",
    "    inner_hash = hashlib.sha512(i_key_pad + message).digest()\n",
    "    outer_hash = hashlib.sha512(o_key_pad + inner_hash).hexdigest()\n",
    "\n",
    "    return outer_hash"
   ]
  },
  {
   "cell_type": "markdown",
   "id": "0f93e140-ad81-4d8d-9445-31804d2af23c",
   "metadata": {},
   "source": [
    "### Verification"
   ]
  },
  {
   "cell_type": "code",
   "execution_count": 3,
   "id": "98596869-027f-41f0-8314-a03fce28dd67",
   "metadata": {},
   "outputs": [
    {
     "name": "stdout",
     "output_type": "stream",
     "text": [
      "Result from implementation: 8792d98f5da85e864b68ef24741d56445956d1950741b7de94a24e5d206b229c07e1af13f3d8ec28dc662668c9616cbbbe41d10effdb2cea88bd10f2753a41e3\n",
      "Result from library: 8792d98f5da85e864b68ef24741d56445956d1950741b7de94a24e5d206b229c07e1af13f3d8ec28dc662668c9616cbbbe41d10effdb2cea88bd10f2753a41e3\n",
      "Pass: True\n"
     ]
    }
   ],
   "source": [
    "message = \"This input string is being used to test my own implementation of HMAC-SHA-512.\"\n",
    "key = \"CSI 4108\"\n",
    "\n",
    "result_implementation = hmac_sha512_hex(message.encode(), key.encode())\n",
    "print(f\"Result from implementation: {result_implementation}\")\n",
    "\n",
    "result_library = hmac.new(key.encode(), message.encode(), hashlib.sha512).hexdigest()\n",
    "print(f\"Result from library: {result_library}\")\n",
    "\n",
    "print(f\"Pass: {result_implementation == result_library}\")"
   ]
  },
  {
   "cell_type": "markdown",
   "id": "35b44f71-04f4-433f-b1c3-aca05fd69b4e",
   "metadata": {},
   "source": [
    "## Question 2: DSA"
   ]
  },
  {
   "cell_type": "markdown",
   "id": "9f3eec76-c0d8-431e-876c-f97e9bc03d32",
   "metadata": {},
   "source": [
    "### System Parameters"
   ]
  },
  {
   "cell_type": "code",
   "execution_count": 4,
   "id": "87ec241c-54e1-46b4-8ad5-cdfb900c347f",
   "metadata": {},
   "outputs": [],
   "source": [
    "# Generated with `openssl dsaparam 1024 160`\n",
    "\n",
    "# -----BEGIN DSA PARAMETERS-----\n",
    "# MIIBHwKBgQDYzzwF7Ar1t47y4X+wlZBJXLlYxb7LwDI+R0pat914W04SSwTuFjSX\n",
    "# 6CLD7WpvkuRZMb2o269uK1EmntKdUyPx3LUHC5BY2K6Q1YwRAvVuf0OubnlttloD\n",
    "# cIEe4gPqwr8mMfaT3plY17NDv/bq5IPEds3katcBl9ukgylGNsI3zwIVAIsWaCuw\n",
    "# 2OHOI4EiIM4vVD4UjeZJAoGBAM/klaHh2334YCqZn2HHFZZzzLzcbuy4MLscW08n\n",
    "# LAYHfs5Q6oU+IHQBSuWlFLdntSOQ/sbjprNgfTa1jiVEaFV7QceEi9gYx5kFGO02\n",
    "# m8rasB40w0iFNuSVyyTXvI4P9VzRRndDGkNrBwtHt3x38C7lCdLJH6cpdjSOak9c\n",
    "# WDa9\n",
    "# -----END DSA PARAMETERS-----\n",
    "\n",
    "p = \"00d8cf3c05ec0af5b78ef2e17fb095\" \\\n",
    "    \"90495cb958c5becbc0323e474a5ab7\" \\\n",
    "    \"dd785b4e124b04ee163497e822c3ed\" \\\n",
    "    \"6a6f92e45931bda8dbaf6e2b51269e\" \\\n",
    "    \"d29d5323f1dcb5070b9058d8ae90d5\" \\\n",
    "    \"8c1102f56e7f43ae6e796db65a0370\" \\\n",
    "    \"811ee203eac2bf2631f693de9958d7\" \\\n",
    "    \"b343bff6eae483c476cde46ad70197\" \\\n",
    "    \"dba483294636c237cf\"\n",
    "\n",
    "q = \"008b16682bb0d8e1ce23812220ce2f\" \\\n",
    "    \"543e148de649\"\n",
    "\n",
    "g = \"00cfe495a1e1db7df8602a999f61c7\" \\\n",
    "    \"159673ccbcdc6eecb830bb1c5b4f27\" \\\n",
    "    \"2c06077ece50ea853e2074014ae5a5\" \\\n",
    "    \"14b767b52390fec6e3a6b3607d36b5\" \\\n",
    "    \"8e254468557b41c7848bd818c79905\" \\\n",
    "    \"18ed369bcadab01e34c3488536e495\" \\\n",
    "    \"cb24d7bc8e0ff55cd14677431a436b\" \\\n",
    "    \"070b47b77c77f02ee509d2c91fa729\" \\\n",
    "    \"76348e6a4f5c5836bd\"\n",
    "\n",
    "p = int(p, 16)\n",
    "q = int(q, 16)\n",
    "g = int(g, 16)"
   ]
  },
  {
   "cell_type": "markdown",
   "id": "8ca46797-107f-4d20-85fc-8bcdb78d06f4",
   "metadata": {},
   "source": [
    "### Implementation"
   ]
  },
  {
   "cell_type": "code",
   "execution_count": 5,
   "id": "a4364424-9db1-4a8a-a782-9c05b1811b0a",
   "metadata": {},
   "outputs": [],
   "source": [
    "KeyPairType: typing.TypeAlias = tuple[int, int]\n",
    "SignatureType: typing.TypeAlias = tuple[int, int]\n",
    "\n",
    "\n",
    "class DSA:\n",
    "    def __init__(self, p: int, q: int, g: int):\n",
    "        self.p = p\n",
    "        self.q = q\n",
    "        self.g = g\n",
    "\n",
    "    def get_key_pair(self) -> KeyPairType:\n",
    "        private_key = random.randint(1, self.q - 1)\n",
    "        public_key = pow(self.g, private_key, self.p)\n",
    "        return private_key, public_key\n",
    "\n",
    "    def sign(self, message: bytes, private_key: int, k=None) -> SignatureType:\n",
    "        k_chosen = k is not None\n",
    "        if not k_chosen:\n",
    "            k = random.randint(1, self.q - 1)\n",
    "\n",
    "        while True:\n",
    "            r = pow(self.g, k, self.p) % self.q\n",
    "            if r == 0:\n",
    "                if k_chosen:\n",
    "                    raise ValueError(\"r is 0 with chosen k\")\n",
    "                k = random.randint(1, self.q - 1)\n",
    "                continue\n",
    "            h = int.from_bytes(hashlib.sha1(message).digest())\n",
    "            s = (h + private_key * r) * pow(k, -1, self.q) % self.q\n",
    "            if s == 0:\n",
    "                if k_chosen:\n",
    "                    raise ValueError(\"s is 0 with chosen k\")\n",
    "                k = random.randint(1, self.q - 1)\n",
    "                continue\n",
    "            return r, s\n",
    "\n",
    "    def verify(self, message: bytes, signature: SignatureType, public_key: int):\n",
    "        r, s = signature\n",
    "        if not (0 < r < self.q and 0 < s < self.q):\n",
    "            raise ValueError(\"r and s should be in (0, q)\")\n",
    "\n",
    "        h = int.from_bytes(hashlib.sha1(message).digest())\n",
    "        u_1 = h * pow(s, -1, self.q) % self.q\n",
    "        u_2 = r * pow(s, -1, self.q) % self.q\n",
    "\n",
    "        return pow(self.g, u_1, self.p) * pow(public_key, u_2, self.p) % self.p % self.q == r"
   ]
  },
  {
   "cell_type": "markdown",
   "id": "3a80cf5d-332f-4cd2-a903-a15effa991c5",
   "metadata": {},
   "source": [
    "### Keypair Generation"
   ]
  },
  {
   "cell_type": "code",
   "execution_count": 6,
   "id": "341abff0-013e-436d-808c-81c3acac9b8c",
   "metadata": {},
   "outputs": [
    {
     "name": "stdout",
     "output_type": "stream",
     "text": [
      "Private key: 0x13e44fc6c6593f54586d24dda28cf810b27a6a89\n",
      "Public key: 0x8e67f3f73580164fd016b463e7ef7f1c0265e5fd13aa741a1bb0ae7b14af7a26fd5c6ac6400f2a26bd6c96f0a70c41467b75a783af95a8a222e580c33b29752e7039773dd1ca6440b6332624bdbdee262f66125b25a65794d9964ad65caa2d05a4ecd3097651fa4d29d9e63462717c7a4ca3d7a918442c5a2580a1a25913fab0\n"
     ]
    }
   ],
   "source": [
    "dsa = DSA(p, q, g)\n",
    "private_key, public_key = dsa.get_key_pair()\n",
    "print(f\"Private key: {hex(private_key)}\")\n",
    "print(f\"Public key: {hex(public_key)}\")"
   ]
  },
  {
   "cell_type": "markdown",
   "id": "5f965b1a-2d98-4b00-a1a7-db700f3189b9",
   "metadata": {},
   "source": [
    "### Signing and Verifying"
   ]
  },
  {
   "cell_type": "code",
   "execution_count": 7,
   "id": "f53be6c5-c310-4d0a-9cf7-abc09c079fa9",
   "metadata": {},
   "outputs": [
    {
     "name": "stdout",
     "output_type": "stream",
     "text": [
      "r_1: 0x6e40704674b518835be43f10090f2b8c3e67f298\n",
      "s_1: 0x3484cbccbe1121700a60ceb23655e9c803bb6c85\n",
      "Pass: True\n"
     ]
    }
   ],
   "source": [
    "m_1 = 582346829557612\n",
    "m_1_bytes = m_1.to_bytes(math.ceil(math.log(m_1, 2 ** 8)))\n",
    "\n",
    "r_1, s_1 = dsa.sign(m_1_bytes, private_key, k=4108)\n",
    "print(f\"r_1: {hex(r_1)}\")\n",
    "print(f\"s_1: {hex(s_1)}\")\n",
    "\n",
    "result = dsa.verify(m_1_bytes, (r_1, s_1), public_key)\n",
    "print(f\"Pass: {result}\")"
   ]
  },
  {
   "cell_type": "markdown",
   "id": "1003aefa-dcca-4651-bb73-ef60d3c7ee51",
   "metadata": {},
   "source": [
    "## Question 3: DSA Attack on $k$-Reusing"
   ]
  },
  {
   "cell_type": "code",
   "execution_count": 8,
   "id": "defa663b-1fd5-4136-a8de-8cf931144608",
   "metadata": {},
   "outputs": [
    {
     "name": "stdout",
     "output_type": "stream",
     "text": [
      "r_2: 0x6e40704674b518835be43f10090f2b8c3e67f298\n",
      "s_2: 0x2ffdd63a6c7aa982cd714c2e4787c265dd40958a\n"
     ]
    }
   ],
   "source": [
    "m_2 = 8161474912583\n",
    "m_2_bytes = m_2.to_bytes(math.ceil(math.log(m_2, 2 ** 8)))\n",
    "\n",
    "r_2, s_2 = dsa.sign(m_2_bytes, private_key, k=4108)\n",
    "print(f\"r_2: {hex(r_2)}\")\n",
    "print(f\"s_2: {hex(s_2)}\")"
   ]
  },
  {
   "cell_type": "markdown",
   "id": "f5f84511-4476-4268-96c4-ba1a0599ce2f",
   "metadata": {},
   "source": [
    "* From the DSA scheme, we know if $k$ is reused:\n",
    "\\begin{align}\n",
    "r_1 &\\equiv r_2 \\equiv r \\equiv g ^ k \\pmod p \\pmod q \\\\\n",
    "s_1 &\\equiv k ^ {-1} (H(m_1) + xr) \\pmod q \\\\\n",
    "s_2 &\\equiv k ^ {-1} (H(m_2) + xr) \\pmod q\n",
    "\\end{align}\n",
    "* From $(2)$, we know:\n",
    "\\begin{align}\n",
    "ks_1 \\equiv H(m_1) + xr \\pmod q\n",
    "\\end{align}\n",
    "* From $(3)$, we know:\n",
    "\\begin{align}\n",
    "k \\equiv s_2 ^ {-1} (H(m_2) + xr) \\pmod q\n",
    "\\end{align}\n",
    "* Plug $(5)$ into $(4)$, we get:\n",
    "\\begin{align}\n",
    "s_2 ^ {-1} (H(m_2) + xr) \\cdot s_1 &\\equiv H(m_1) + xr \\pmod q \\\\\n",
    "s_1 (H(m_2) + xr) &\\equiv s_2 (H(m_1) + xr) \\pmod q \\\\\n",
    "s_1 H(m_2) + s_1xr &\\equiv s_2 H(m_1) + s_2xr \\pmod q \\\\\n",
    "(s_1 - s_2)xr &\\equiv s_2 H(m_1) - s_1 H(m_2) \\pmod q \\\\\n",
    "x &\\equiv (s_2 H(m_1) - s_1 H(m_2))(r(s_1 - s_2)) ^ {-1} \\pmod q\n",
    "\\end{align}\n",
    "* $x$, the private key, can then be calculated:"
   ]
  },
  {
   "cell_type": "code",
   "execution_count": 9,
   "id": "8b2e8245-4646-4cc8-a657-7fd775815d69",
   "metadata": {},
   "outputs": [
    {
     "name": "stdout",
     "output_type": "stream",
     "text": [
      "x = 0x13e44fc6c6593f54586d24dda28cf810b27a6a89\n"
     ]
    }
   ],
   "source": [
    "r = r_1\n",
    "h_1 = int.from_bytes(hashlib.sha1(m_1_bytes).digest())\n",
    "h_2 = int.from_bytes(hashlib.sha1(m_2_bytes).digest())\n",
    "x = (s_2 * h_1 - s_1 * h_2) * pow(r * (s_1 - s_2), -1, dsa.q) % dsa.q\n",
    "print(f\"x = {hex(x)}\")"
   ]
  },
  {
   "cell_type": "markdown",
   "id": "dbde1194-b7e3-465a-85c0-1ad06343eea0",
   "metadata": {},
   "source": [
    "## Question 4: DSA Cracking"
   ]
  },
  {
   "cell_type": "markdown",
   "id": "0a9e119f-3e60-4d4b-861d-b606dbd35aa1",
   "metadata": {},
   "source": [
    "### Cracking Private Key"
   ]
  },
  {
   "cell_type": "code",
   "execution_count": 10,
   "id": "f8ad6394-6e80-45b5-a836-bcd33c03db8e",
   "metadata": {},
   "outputs": [],
   "source": [
    "# https://en.wikipedia.org/wiki/Baby-step_giant-step\n",
    "def baby_step_giant_step(base, number, modulus):\n",
    "    m = math.ceil(math.sqrt(modulus))\n",
    "\n",
    "    # Precompute baby steps\n",
    "    baby_steps = {}\n",
    "    baby = 1\n",
    "    for r in range(m):\n",
    "        baby_steps[baby] = r\n",
    "        baby = (baby * base) % modulus\n",
    "\n",
    "    giant_step = pow(base, m * (modulus - 2), modulus)\n",
    "\n",
    "    # Search for a match\n",
    "    giant = number\n",
    "    for s in range(m):\n",
    "        if giant in baby_steps:\n",
    "            return s * m + baby_steps[giant]\n",
    "        giant = (giant * giant_step) % modulus\n",
    "\n",
    "    # No match found\n",
    "    return None"
   ]
  },
  {
   "cell_type": "code",
   "execution_count": 11,
   "id": "cbcd1792-8cd8-4cf3-89ce-cdd6d0d0d101",
   "metadata": {},
   "outputs": [
    {
     "name": "stdout",
     "output_type": "stream",
     "text": [
      "Private key: 602\n"
     ]
    }
   ],
   "source": [
    "p, q, g = 103687, 1571, 21947\n",
    "A = 31377\n",
    "X = baby_step_giant_step(g, A, p)\n",
    "print(f\"Private key: {X}\")"
   ]
  },
  {
   "cell_type": "markdown",
   "id": "20182b99-405d-4d66-865c-831581423b53",
   "metadata": {},
   "source": [
    "### Signing"
   ]
  },
  {
   "cell_type": "code",
   "execution_count": 12,
   "id": "98e53c64-acb4-4b7a-a59d-982d1c7d6c0f",
   "metadata": {},
   "outputs": [
    {
     "name": "stdout",
     "output_type": "stream",
     "text": [
      "r: 0x1b7\n",
      "s: 0x39b\n"
     ]
    }
   ],
   "source": [
    "D = 510\n",
    "D_bytes = D.to_bytes(math.ceil(math.log(D, 2 ** 8)))\n",
    "\n",
    "dsa = DSA(p, q, g)\n",
    "r, s = dsa.sign(D_bytes, X, k=1105)\n",
    "print(f\"r: {hex(r)}\")\n",
    "print(f\"s: {hex(s)}\")"
   ]
  },
  {
   "cell_type": "markdown",
   "id": "ff089351-b392-4ee9-b606-85177286e908",
   "metadata": {},
   "source": [
    "### Verifying"
   ]
  },
  {
   "cell_type": "code",
   "execution_count": 13,
   "id": "3c78ac10-3729-4091-a3c4-817f0325a9ff",
   "metadata": {},
   "outputs": [
    {
     "data": {
      "text/plain": [
       "True"
      ]
     },
     "execution_count": 13,
     "metadata": {},
     "output_type": "execute_result"
    }
   ],
   "source": [
    "dsa.verify(D_bytes, (r, s), A)"
   ]
  }
 ],
 "metadata": {
  "kernelspec": {
   "display_name": "Python 3 (ipykernel)",
   "language": "python",
   "name": "python3"
  },
  "language_info": {
   "codemirror_mode": {
    "name": "ipython",
    "version": 3
   },
   "file_extension": ".py",
   "mimetype": "text/x-python",
   "name": "python",
   "nbconvert_exporter": "python",
   "pygments_lexer": "ipython3",
   "version": "3.11.6"
  }
 },
 "nbformat": 4,
 "nbformat_minor": 5
}
